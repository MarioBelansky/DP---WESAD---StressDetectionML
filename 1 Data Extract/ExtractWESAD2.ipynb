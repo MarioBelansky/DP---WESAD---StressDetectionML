{
 "cells": [
  {
   "cell_type": "code",
   "execution_count": 1,
   "id": "2c0dcd3f-9817-479b-978c-ff5ca0b557c9",
   "metadata": {
    "editable": true,
    "slideshow": {
     "slide_type": ""
    },
    "tags": []
   },
   "outputs": [],
   "source": [
    "import pickle\n",
    "\n",
    "with open('WESAD/S2/S2.pkl', 'rb') as f:\n",
    "    dataF = pickle.load(f, encoding='latin1')"
   ]
  },
  {
   "cell_type": "code",
   "execution_count": 2,
   "id": "db953dfd-09fd-42cc-beab-055e4d07f6ee",
   "metadata": {},
   "outputs": [
    {
     "data": {
      "text/plain": [
       "4255300"
      ]
     },
     "execution_count": 2,
     "metadata": {},
     "output_type": "execute_result"
    }
   ],
   "source": [
    "len(dataF[\"label\"])"
   ]
  },
  {
   "cell_type": "code",
   "execution_count": 3,
   "id": "72b506b0-c008-4271-8ead-e94c8389742c",
   "metadata": {},
   "outputs": [
    {
     "data": {
      "text/plain": [
       "24316"
      ]
     },
     "execution_count": 3,
     "metadata": {},
     "output_type": "execute_result"
    }
   ],
   "source": [
    "len(dataF['signal'][\"wrist\"][\"TEMP\"])"
   ]
  },
  {
   "cell_type": "code",
   "execution_count": 4,
   "id": "6f4c8ccd-14f2-459b-890f-28cf2c9173f5",
   "metadata": {},
   "outputs": [
    {
     "data": {
      "text/plain": [
       "array([[-59.37],\n",
       "       [-53.42],\n",
       "       [-44.4 ],\n",
       "       ...,\n",
       "       [ 18.26],\n",
       "       [ 18.68],\n",
       "       [ 19.71]])"
      ]
     },
     "execution_count": 4,
     "metadata": {},
     "output_type": "execute_result"
    }
   ],
   "source": [
    "dataF['signal'][\"wrist\"][\"BVP\"]"
   ]
  },
  {
   "cell_type": "code",
   "execution_count": 6,
   "id": "6a8e9d06-1fdb-4828-bba9-7ecc2e62d41d",
   "metadata": {},
   "outputs": [
    {
     "data": {
      "text/plain": [
       "{'signal': {'chest': {'ACC': array([[ 0.95539999, -0.222     , -0.55799997],\n",
       "          [ 0.92579997, -0.2216    , -0.55379999],\n",
       "          [ 0.90820003, -0.21960002, -0.53920001],\n",
       "          ...,\n",
       "          [ 0.87179995, -0.12379998, -0.30419999],\n",
       "          [ 0.87300003, -0.12339997, -0.30260003],\n",
       "          [ 0.87020004, -0.12199998, -0.30220002]]),\n",
       "   'ECG': array([[ 0.02142334],\n",
       "          [ 0.02032471],\n",
       "          [ 0.01652527],\n",
       "          ...,\n",
       "          [-0.00544739],\n",
       "          [ 0.00013733],\n",
       "          [ 0.0040741 ]]),\n",
       "   'EMG': array([[-0.00444031],\n",
       "          [ 0.00434875],\n",
       "          [ 0.00517273],\n",
       "          ...,\n",
       "          [-0.01716614],\n",
       "          [-0.02897644],\n",
       "          [-0.02357483]]),\n",
       "   'EDA': array([[5.25054932],\n",
       "          [5.26733398],\n",
       "          [5.24330139],\n",
       "          ...,\n",
       "          [0.36048889],\n",
       "          [0.36582947],\n",
       "          [0.365448  ]]),\n",
       "   'Temp': array([[30.120758],\n",
       "          [30.129517],\n",
       "          [30.138214],\n",
       "          ...,\n",
       "          [31.459229],\n",
       "          [31.484283],\n",
       "          [31.456268]], dtype=float32),\n",
       "   'Resp': array([[-1.14898682],\n",
       "          [-1.12457275],\n",
       "          [-1.15203857],\n",
       "          ...,\n",
       "          [-1.10321045],\n",
       "          [-1.08642578],\n",
       "          [-1.09710693]])},\n",
       "  'wrist': {'ACC': array([[ 62., -21., 107.],\n",
       "          [ 66.,  13.,  53.],\n",
       "          [ 41.,   9.,  15.],\n",
       "          ...,\n",
       "          [ 41.,  25.,  11.],\n",
       "          [ 39.,  27.,  22.],\n",
       "          [ 56.,  26.,  10.]]),\n",
       "   'BVP': array([[-59.37],\n",
       "          [-53.42],\n",
       "          [-44.4 ],\n",
       "          ...,\n",
       "          [ 18.26],\n",
       "          [ 18.68],\n",
       "          [ 19.71]]),\n",
       "   'EDA': array([[1.138257],\n",
       "          [1.125444],\n",
       "          [1.011405],\n",
       "          ...,\n",
       "          [0.059208],\n",
       "          [0.073303],\n",
       "          [0.045113]]),\n",
       "   'TEMP': array([[35.41],\n",
       "          [35.41],\n",
       "          [35.41],\n",
       "          ...,\n",
       "          [34.23],\n",
       "          [34.23],\n",
       "          [34.23]])}},\n",
       " 'label': array([0, 0, 0, ..., 0, 0, 0]),\n",
       " 'subject': 'S2'}"
      ]
     },
     "execution_count": 6,
     "metadata": {},
     "output_type": "execute_result"
    }
   ],
   "source": [
    "dataF"
   ]
  },
  {
   "cell_type": "code",
   "execution_count": 45,
   "id": "6f74e701-f25d-4e7f-bf01-0ca2079fce21",
   "metadata": {},
   "outputs": [],
   "source": [
    "from pandas import read_csv\n",
    "import numpy as np\n",
    "from scipy import stats\n",
    "import pickle\n",
    "\n",
    "data_dir = 'WESAD/'\n",
    "LABEL_SF = 700\n",
    "ACC_SF = 32\n",
    "BVP_SF = 64\n",
    "EDA_SF = 4\n",
    "TEMP_SF = 4\n",
    "SF_dict = {'ACC':ACC_SF, 'BVP':BVP_SF, 'EDA':EDA_SF, 'TEMP':TEMP_SF}\n",
    "features = ['ACC','BVP','EDA','TEMP']\n",
    "baseline_label = 1\n",
    "stress_label = 2\n",
    "meditation_label = 4\n",
    "invalid_labels = [0, 3, 5, 6, 7]\n",
    "\n",
    "def get_subject_data(subject):\n",
    "    with open(data_dir+'S'+subject+'/S'+subject+'.pkl', 'rb') as file:\n",
    "        data = pickle.load(file, encoding='latin1')\n",
    "\n",
    "    data_labels = data['label']\n",
    "    data = data['signal']['wrist']\n",
    "    window_labels = create_labels(data_labels, LABEL_SF)\n",
    "    mask = [x for x in range(len(window_labels)) if window_labels[x] not in invalid_labels]\n",
    "    valid_labels = window_labels[mask]\n",
    "\n",
    "    for feat in features:\n",
    "        data[feat] = create_windows(data[feat],SF_dict[feat])\n",
    "        data[feat] = [data[feat][x] for x in mask]\n",
    "\n",
    "    med_mask = [x for x in range(len(valid_labels)) if valid_labels[x] == meditation_label]\n",
    "    valid_labels[med_mask] = baseline_label\n",
    "    valid_labels -= 1\n",
    "\n",
    "    final_data = dict()\n",
    "    final_data['data'] = {'ACC' : data['ACC'], 'BVP' : data['BVP'],\n",
    "            'EDA' : data['EDA'], 'TEMP' : data['TEMP']}\n",
    "    final_data['labels'] = valid_labels\n",
    "\n",
    "    return final_data\n",
    "\n",
    "def get_all_subjects():\n",
    "    data = {'data': {'ACC':np.empty((0,ACC_SF,3)), 'BVP':np.empty((0,BVP_SF,1)),\n",
    "            'EDA':np.empty((0,EDA_SF,1)), 'TEMP':np.empty((0,TEMP_SF,1))},\n",
    "                'labels':[]}\n",
    "\n",
    "    for x in range(2,18):\n",
    "        if x != 12:\n",
    "            temp = get_subject_data(str(x))\n",
    "            for i in features:\n",
    "                data['data'][i] = np.append(data['data'][i],temp['data'][i],0)\n",
    "                data['labels'] = np.append(data['labels'],temp['labels'],0)\n",
    "    return data\n",
    "\n",
    "def norm(data):\n",
    "    normalized_data = (data - np.mean(np.mean(data,0),0))/np.std(np.std(data,0),0)\n",
    "    return normalized_data\n",
    "\n",
    "def create_labels(all_labels, SF):\n",
    "    labels = []\n",
    "    for x in range(0, len(all_labels) - SF//2, SF//2):\n",
    "        labels.append(all_labels[x])\n",
    "    return np.array(labels)\n",
    "\n",
    "def create_windows(data, data_SF, window_size=1):\n",
    "    data_windows = []\n",
    "    for x in range(0, len(data) - window_size * (data_SF//2), window_size * (data_SF//2)):\n",
    "        data_windows.append(data[x : window_size * data_SF + x])\n",
    "\n",
    "    return data_windows\n",
    "\n",
    "def save_data(path, data):\n",
    "    with open(path, 'wb') as file:\n",
    "        pickle.dump(data, file)\n",
    "\n",
    "def save_formatted_data(path):\n",
    "    data = {'data': {'ACC':np.empty((0,ACC_SF,3)), 'BVP':np.empty((0,BVP_SF,1)),\n",
    "            'EDA':np.empty((0,EDA_SF,1)), 'TEMP':np.empty((0,TEMP_SF,1))},\n",
    "                'labels':[], 'id':[]}\n",
    "    for x in range(2, 18):\n",
    "        if x != 12:\n",
    "            cur = get_subject_data(str(x))\n",
    "            for i in features:\n",
    "                cur['data'][i] = norm(cur['data'][i])\n",
    "\n",
    "            save_data(path+'S'+str(x)+'.pkl', cur)\n",
    "            for i in features:\n",
    "                data['data'][i] = np.append(data['data'][i], cur['data'][i],0)\n",
    "            data['labels'] = np.append(data['labels'], cur['labels'],0)\n",
    "            data['id'] = np.append(data['id'], np.full(cur['labels'].size, str(x)), 0)\n",
    "    save_data(path+'All_ID.pkl', data)"
   ]
  },
  {
   "cell_type": "code",
   "execution_count": 46,
   "id": "746b3dee-854a-4ec4-8fb4-0054f043e165",
   "metadata": {},
   "outputs": [],
   "source": [
    "save_formatted_data(\"WESAD2/\")"
   ]
  },
  {
   "cell_type": "code",
   "execution_count": 47,
   "id": "bacbb809-b176-4d57-a8d1-1db3e425abdf",
   "metadata": {},
   "outputs": [],
   "source": [
    "with open('WESAD2/All_ID.pkl', 'rb') as file:\n",
    "        data = pickle.load(file, encoding='latin1')"
   ]
  },
  {
   "cell_type": "code",
   "execution_count": 48,
   "id": "ab82849b-768d-43eb-b813-ae67079bfa3b",
   "metadata": {},
   "outputs": [
    {
     "data": {
      "text/plain": [
       "{'data': {'ACC': array([[[  126.32624263, -1012.3755119 ,  1296.16359523],\n",
       "          [  233.10128359,  -738.13483315,   636.76661552],\n",
       "          [  411.0596852 ,  -738.13483315,  1024.64719182],\n",
       "          ...,\n",
       "          [  138.19013607,  -772.414918  ,  1024.64719182],\n",
       "          [   78.87066887,  -772.414918  ,  1024.64719182],\n",
       "          [   67.00677543,  -601.01449378,  1218.58747997]],\n",
       "  \n",
       "         [[   90.73456231,  -669.57466347,   636.76661552],\n",
       "          [   78.87066887,  -635.29457863,   636.76661552],\n",
       "          [  114.46234919,  -601.01449378,   753.13078841],\n",
       "          ...,\n",
       "          [  -16.04047865,  -635.29457863,  1179.79942234],\n",
       "          [  -16.04047865,  -601.01449378,  1141.01136471],\n",
       "          [  -27.90437209,  -635.29457863,  1218.58747997]],\n",
       "  \n",
       "         [[  -27.90437209,  -498.17423926,  1218.58747997],\n",
       "          [  -63.49605241,  -498.17423926,  1179.79942234],\n",
       "          [  -27.90437209,  -498.17423926,  1102.22330708],\n",
       "          ...,\n",
       "          [  -27.90437209,  -669.57466347,  1218.58747997],\n",
       "          [  -27.90437209,  -635.29457863,  1218.58747997],\n",
       "          [  -27.90437209,  -635.29457863,  1218.58747997]],\n",
       "  \n",
       "         ...,\n",
       "  \n",
       "         [[   57.65252751,   918.94055149,   887.25155116],\n",
       "          [   57.65252751,   918.94055149,   887.25155116],\n",
       "          [   57.65252751,   918.94055149,   887.25155116],\n",
       "          ...,\n",
       "          [   57.65252751,   918.94055149,   887.25155116],\n",
       "          [   57.65252751,   918.94055149,   887.25155116],\n",
       "          [   57.65252751,   918.94055149,   887.25155116]],\n",
       "  \n",
       "         [[   57.65252751,   918.94055149,   887.25155116],\n",
       "          [   57.65252751,   918.94055149,   887.25155116],\n",
       "          [   57.65252751,   918.94055149,   887.25155116],\n",
       "          ...,\n",
       "          [   57.65252751,   918.94055149,   887.25155116],\n",
       "          [   57.65252751,   918.94055149,   887.25155116],\n",
       "          [   57.65252751,   918.94055149,   887.25155116]],\n",
       "  \n",
       "         [[   57.65252751,   918.94055149,   887.25155116],\n",
       "          [   57.65252751,   918.94055149,   887.25155116],\n",
       "          [   57.65252751,   918.94055149,   887.25155116],\n",
       "          ...,\n",
       "          [   57.65252751,   918.94055149,   887.25155116],\n",
       "          [   57.65252751,   918.94055149,   887.25155116],\n",
       "          [   57.65252751,   918.94055149,   887.25155116]]]),\n",
       "  'BVP': array([[[ 13.5708015 ],\n",
       "          [ 13.1440063 ],\n",
       "          [ 13.03286172],\n",
       "          ...,\n",
       "          [-91.53640896],\n",
       "          [-71.45035969],\n",
       "          [-54.01399731]],\n",
       "  \n",
       "         [[ 41.93045363],\n",
       "          [ 42.3928151 ],\n",
       "          [ 40.00542943],\n",
       "          ...,\n",
       "          [ 23.84945266],\n",
       "          [ 23.1959225 ],\n",
       "          [ 21.51541639]],\n",
       "  \n",
       "         [[-39.92975559],\n",
       "          [-28.53521281],\n",
       "          [-18.92342916],\n",
       "          ...,\n",
       "          [ 27.3127179 ],\n",
       "          [ 22.71133211],\n",
       "          [ 13.43298222]],\n",
       "  \n",
       "         ...,\n",
       "  \n",
       "         [[  5.41429826],\n",
       "          [  3.70627653],\n",
       "          [  2.11212292],\n",
       "          ...,\n",
       "          [  9.52620242],\n",
       "          [  8.86829775],\n",
       "          [  8.04591692]],\n",
       "  \n",
       "         [[  2.02355883],\n",
       "          [  5.03473787],\n",
       "          [  7.3374042 ],\n",
       "          ...,\n",
       "          [  4.90821775],\n",
       "          [  7.35005622],\n",
       "          [  9.45029034]],\n",
       "  \n",
       "         [[  6.97049583],\n",
       "          [  5.5534704 ],\n",
       "          [  3.83279666],\n",
       "          ...,\n",
       "          [ -4.3404036 ],\n",
       "          [ -5.83334111],\n",
       "          [ -7.4021907 ]]]),\n",
       "  'EDA': array([[[ 5452.45036511],\n",
       "          [ 5366.84684757],\n",
       "          [ 5264.12262651],\n",
       "          [ 5115.74616534]],\n",
       "  \n",
       "         [[ 5264.12262651],\n",
       "          [ 5115.74616534],\n",
       "          [ 5127.15699843],\n",
       "          [ 5013.02194429]],\n",
       "  \n",
       "         [[ 5127.15699843],\n",
       "          [ 5013.02194429],\n",
       "          [ 5372.55671799],\n",
       "          [ 5235.59108991]],\n",
       "  \n",
       "         ...,\n",
       "  \n",
       "         [[-1141.51599081],\n",
       "          [-1141.51599081],\n",
       "          [-1136.58907948],\n",
       "          [-1151.36596433]],\n",
       "  \n",
       "         [[-1136.58907948],\n",
       "          [-1151.36596433],\n",
       "          [-1141.51599081],\n",
       "          [-1141.51599081]],\n",
       "  \n",
       "         [[-1141.51599081],\n",
       "          [-1141.51599081],\n",
       "          [-1136.58907948],\n",
       "          [-1151.36596433]]]),\n",
       "  'TEMP': array([[[ 10279.72209064],\n",
       "          [ 10279.72209064],\n",
       "          [ 10279.72209064],\n",
       "          [ 10279.72209064]],\n",
       "  \n",
       "         [[ 10279.72209064],\n",
       "          [ 10279.72209064],\n",
       "          [ 10279.72209064],\n",
       "          [ 10279.72209064]],\n",
       "  \n",
       "         [[ 10279.72209064],\n",
       "          [ 10279.72209064],\n",
       "          [ 10279.72209064],\n",
       "          [ 10279.72209064]],\n",
       "  \n",
       "         ...,\n",
       "  \n",
       "         [[-11802.68311157],\n",
       "          [-11802.68311157],\n",
       "          [-11802.68311157],\n",
       "          [-11802.68311157]],\n",
       "  \n",
       "         [[-11802.68311157],\n",
       "          [-11802.68311157],\n",
       "          [-11802.68311157],\n",
       "          [-11412.91762831]],\n",
       "  \n",
       "         [[-11802.68311157],\n",
       "          [-11412.91762831],\n",
       "          [-11412.91762831],\n",
       "          [-11412.91762831]]])},\n",
       " 'labels': array([0., 0., 0., ..., 0., 0., 0.]),\n",
       " 'id': array(['2', '2', '2', ..., '17', '17', '17'], dtype='<U32')}"
      ]
     },
     "execution_count": 48,
     "metadata": {},
     "output_type": "execute_result"
    }
   ],
   "source": [
    "data"
   ]
  },
  {
   "cell_type": "code",
   "execution_count": 49,
   "id": "219a8d16-aafb-483b-8185-b3363355c537",
   "metadata": {},
   "outputs": [
    {
     "data": {
      "text/plain": [
       "78766"
      ]
     },
     "execution_count": 49,
     "metadata": {},
     "output_type": "execute_result"
    }
   ],
   "source": [
    "len(data[\"id\"])"
   ]
  },
  {
   "cell_type": "code",
   "execution_count": 50,
   "id": "14a850a3-62c8-4b34-ade0-7f27e4ac4270",
   "metadata": {},
   "outputs": [
    {
     "data": {
      "text/plain": [
       "78766"
      ]
     },
     "execution_count": 50,
     "metadata": {},
     "output_type": "execute_result"
    }
   ],
   "source": [
    "len(data[\"data\"][\"ACC\"])"
   ]
  },
  {
   "cell_type": "code",
   "execution_count": 51,
   "id": "953538f7-1b87-4ab5-86f2-da7436368dd0",
   "metadata": {},
   "outputs": [
    {
     "data": {
      "text/plain": [
       "78766"
      ]
     },
     "execution_count": 51,
     "metadata": {},
     "output_type": "execute_result"
    }
   ],
   "source": [
    "len(data[\"data\"][\"BVP\"])"
   ]
  },
  {
   "cell_type": "code",
   "execution_count": 52,
   "id": "fe184e83-6c04-4c97-9f31-f113470383af",
   "metadata": {},
   "outputs": [
    {
     "data": {
      "text/plain": [
       "78766"
      ]
     },
     "execution_count": 52,
     "metadata": {},
     "output_type": "execute_result"
    }
   ],
   "source": [
    "len(data[\"data\"][\"EDA\"])"
   ]
  },
  {
   "cell_type": "code",
   "execution_count": 53,
   "id": "8be032ea-046a-4c69-84ad-b12e3ea6765f",
   "metadata": {
    "editable": true,
    "slideshow": {
     "slide_type": ""
    },
    "tags": []
   },
   "outputs": [
    {
     "data": {
      "text/plain": [
       "78766"
      ]
     },
     "execution_count": 53,
     "metadata": {},
     "output_type": "execute_result"
    }
   ],
   "source": [
    "len(data[\"data\"][\"TEMP\"])"
   ]
  }
 ],
 "metadata": {
  "kernelspec": {
   "display_name": "Python 3 (ipykernel)",
   "language": "python",
   "name": "python3"
  },
  "language_info": {
   "codemirror_mode": {
    "name": "ipython",
    "version": 3
   },
   "file_extension": ".py",
   "mimetype": "text/x-python",
   "name": "python",
   "nbconvert_exporter": "python",
   "pygments_lexer": "ipython3",
   "version": "3.11.7"
  }
 },
 "nbformat": 4,
 "nbformat_minor": 5
}
